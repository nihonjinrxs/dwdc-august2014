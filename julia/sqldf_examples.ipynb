{
 "metadata": {
  "language": "Julia",
  "name": ""
 },
 "nbformat": 3,
 "nbformat_minor": 0,
 "worksheets": [
  {
   "cells": [
    {
     "cell_type": "markdown",
     "metadata": {},
     "source": [
      "# SQL, the Sequel : Data Wranglers DC : August 2014 Meetup\n",
      "\n",
      "**Author:**  [Ryan B. Harvey](http://datascientist.guru)\n",
      "\n",
      "**Created:** 2014-07-18 / **Last Updated:** 2014-07-18\n",
      "\n",
      "**Contents:**\n",
      "\n",
      "- The `sqldf` function in Julia (using the `SQLite.jl` package) \n",
      "- Loading some test data\n",
      "- Querying and subsetting that test data\n",
      "- Example of a complex query\n",
      "\n",
      "**Package Dependencies:**\n",
      "\n",
      "- **[SQLite.jl](https://github.com/quinnj/SQLite.jl):** Interface to SQLite databases from Julia; also allows SQL operations on data frames via the `sqldf` function, based on the package of the same name in R\n",
      "\n",
      "**References:**\n",
      "\n",
      "- This RPub was created for a talk to the Data Wranglers DC meetup group on August 6, 2014.\n",
      "  - Talk information: [http://www.meetup.com/Data-Wranglers-DC/events/177269432/](http://www.meetup.com/Data-Wranglers-DC/events/177269432/)\n",
      "  - This is only a portion of the talk, which included database information, SQL code, and an R markdown file too.\n",
      "  - My code, slides and the sample data are all available on Github. [https://github.com/nihonjinrxs/dwdc-august2014](https://github.com/nihonjinrxs/dwdc-august2014)"
     ]
    },
    {
     "cell_type": "markdown",
     "metadata": {},
     "source": [
      "## The `sqldf` function in Julia (using the `SQLite.jl` package)\n",
      "\n",
      "The `SQLite.jl` package is a Julia package that provides an interface to the SQLite library and support for operations on DataFrames through the `sqldf` function.  The `sqldf` function creates tables in a local SQLite database, runs the requested SQL query on those tables, and then drops the tables from the SQLite database.  Although this can be slower than subsetting a data frame directly, in cases where the data frame is very complex and conditions get difficult to parse, SQL can provide a straightforward, declarative way of requesting a particular data subset.\n",
      "\n",
      "If the `SQLite.jl` package doesn't exist in your environment, add the package.  Once you have it, use it.\n"
     ]
    },
    {
     "cell_type": "code",
     "collapsed": false,
     "input": [
      "Pkg.update()\n",
      "Pkg.add(\"SQLite\")\n",
      "using SQLite"
     ],
     "language": "python",
     "metadata": {},
     "outputs": [
      {
       "output_type": "stream",
       "stream": "stderr",
       "text": [
        "INFO: Updating METADATA..."
       ]
      },
      {
       "output_type": "stream",
       "stream": "stderr",
       "text": [
        "\n"
       ]
      },
      {
       "output_type": "stream",
       "stream": "stderr",
       "text": [
        "INFO: Updating DBI..."
       ]
      },
      {
       "output_type": "stream",
       "stream": "stderr",
       "text": [
        "\n",
        "INFO: Updating PostgreSQL...\n"
       ]
      },
      {
       "output_type": "stream",
       "stream": "stderr",
       "text": [
        "INFO: Computing changes..."
       ]
      },
      {
       "output_type": "stream",
       "stream": "stderr",
       "text": [
        "\n",
        "INFO: "
       ]
      },
      {
       "output_type": "stream",
       "stream": "stderr",
       "text": [
        "No packages to install, update or remove\n"
       ]
      },
      {
       "output_type": "stream",
       "stream": "stderr",
       "text": [
        "INFO: Nothing to be done"
       ]
      },
      {
       "output_type": "stream",
       "stream": "stderr",
       "text": [
        "\n"
       ]
      }
     ],
     "prompt_number": 3
    },
    {
     "cell_type": "code",
     "collapsed": false,
     "input": [
      "Pkg.add(\"DataFrames\")\n",
      "using DataFrames"
     ],
     "language": "python",
     "metadata": {},
     "outputs": [
      {
       "output_type": "stream",
       "stream": "stderr",
       "text": [
        "INFO: No packages to install, update or remove"
       ]
      },
      {
       "output_type": "stream",
       "stream": "stderr",
       "text": [
        "\n",
        "INFO: Package database updated\n"
       ]
      },
      {
       "output_type": "stream",
       "stream": "stderr",
       "text": [
        "Warning: using DataFrames.describe in module Main conflicts with an existing identifier.\n"
       ]
      }
     ],
     "prompt_number": 24
    },
    {
     "cell_type": "markdown",
     "metadata": {},
     "source": [
      "## Load some data to work with\n",
      "\n",
      "For this example, we'll use the [Basic Business Licenses data](http://data.dc.gov/Main_DataCatalog.aspx?id=1520) from the [DC government open data site](http://data.dc.gov/).\n",
      "\n",
      "The data is available as a zip file, so we'll download it if it's not already available, and then unzip it if it hasn't been already."
     ]
    },
    {
     "cell_type": "code",
     "collapsed": false,
     "input": [
      "url = \"http://data.octo.dc.gov/feeds/bbl/bbl_current_csv.zip\"\n",
      "\n",
      "data_dir = \"../data/\"\n",
      "current_dir = pwd()\n",
      "cd(data_dir)\n",
      "\n",
      "local_zipped = \"bbl_current_csv.zip\"\n",
      "local_data = \"bbl_current_csv.csv\"\n",
      "\n",
      "if !(isfile(local_zipped) && isfile(local_data))\n",
      "  download(url, local_zipped)\n",
      "  fileDownloadedDate = strftime(\"%F\", time())\n",
      "  fileDownloadedDate\n",
      "end"
     ],
     "language": "python",
     "metadata": {},
     "outputs": [],
     "prompt_number": 15
    },
    {
     "cell_type": "code",
     "collapsed": false,
     "input": [
      "if !isfile(local_data)\n",
      "  run(`unzip $local_zipped`)\n",
      "end"
     ],
     "language": "python",
     "metadata": {},
     "outputs": [],
     "prompt_number": 16
    },
    {
     "cell_type": "code",
     "collapsed": false,
     "input": [
      "bbl = readtable(local_data)"
     ],
     "language": "python",
     "metadata": {},
     "outputs": [
      {
       "html": [
        "<table><tr><th></th><th>BBL_LICENSE_FACT_ID</th><th>LICENSESTATUS</th><th>LICENSECATEGORY</th><th>CUST_NUM</th><th>TRADE_NAME</th><th>LICENSE_START_DATE</th><th>LICENSE_EXPIRATION_DATE</th><th>LICENSE_ISSUE_DATE</th><th>AGENT_PHONE</th><th>LASTMODIFIEDDATE</th><th>CITY</th><th>STATE</th><th>SITEADDRESS</th><th>LATITUDE</th><th>LONGITUDE</th><th>ZIPCODE</th><th>MARADDRESSREPOSITORYID</th><th>DCSTATADDRESSKEY</th><th>DCSTATLOCATIONKEY</th><th>WARD</th><th>ANC</th><th>SMD</th><th>DISTRICT</th><th>PSA</th><th>NEIGHBORHOODCLUSTER</th><th>HOTSPOT2006NAME</th><th>HOTSPOT2005NAME</th><th>HOTSPOT2004NAME</th><th>BUSINESSIMPROVEMENTDISTRICT</th></tr><tr><th>1</th><td>144376</td><td>CANCELLED</td><td>Charitable Solicitation</td><td>65990715</td><td>WASHINGTON ARCHITECTURAL FOUNDATION</td><td>9/1/2011 12:00:00 AM</td><td>8/31/2013 12:00:00 AM</td><td>7/15/2014 12:00:00 AM</td><td>9999999999</td><td>7/17/2014 6:45:37 AM</td><td>WASHINGTON</td><td>DC</td><td>1777 CHURCH STREET NW</td><td>38.9105312153953</td><td>-77.0409138338157</td><td>20036</td><td>225921</td><td>68951</td><td>68951</td><td>2</td><td>2B</td><td>2B07</td><td>SECOND</td><td>208</td><td>6</td><td>NONE</td><td>NONE</td><td>NONE</td><td>NONE</td></tr><tr><th>2</th><td>146806</td><td>CANCELLED</td><td>General Business Licenses</td><td>400312000769</td><td>NA</td><td>3/1/2012 12:00:00 AM</td><td>2/28/2014 12:00:00 AM</td><td>7/15/2014 12:00:00 AM</td><td>2028350680</td><td>7/17/2014 6:45:37 AM</td><td>WASHINGTON</td><td>DC</td><td>1629 K STREET NW</td><td>38.9029227912975</td><td>-77.0378958764715</td><td>20006</td><td>242031</td><td>84978</td><td>84978</td><td>2</td><td>2B</td><td>2B05</td><td>SECOND</td><td>207</td><td>6</td><td>NONE</td><td>NONE</td><td>NONE</td><td>GOLDEN TRIANGLE BID</td></tr><tr><th>3</th><td>151842</td><td>CANCELLED</td><td>Cigarette Wholesale</td><td>410411000056</td><td>WAREHOUSE ON THE WHEEL</td><td>7/1/2011 12:00:00 AM</td><td>6/30/2013 12:00:00 AM</td><td>7/15/2014 12:00:00 AM</td><td>2025488000</td><td>7/17/2014 6:45:37 AM</td><td>WASHINGTON</td><td>DC</td><td>2034 WEST VIRGINIA AVENUE NE</td><td>38.9140846144571</td><td>-76.9823172178316</td><td>20002</td><td>52314</td><td>30241</td><td>30241</td><td>5</td><td>5B</td><td>5B09</td><td>FIFTH</td><td>505</td><td>23</td><td>NONE</td><td>NONE</td><td>NONE</td><td>NONE</td></tr><tr><th>4</th><td>152391</td><td>ACTIVE</td><td>Gen Contr-Construction Mngr</td><td>410512000305</td><td>REDLINE PROJECTS LLC</td><td>4/1/2014 12:00:00 AM</td><td>3/31/2016 12:00:00 AM</td><td>7/15/2014 12:00:00 AM</td><td>2024210949</td><td>7/17/2014 6:45:37 AM</td><td>WASHINGTON</td><td>DC</td><td>134 MICHIGAN AVENUE NE</td><td>38.9283356365855</td><td>-77.0055661780045</td><td>20017</td><td>146171</td><td>55097</td><td>55097</td><td>5</td><td>5C</td><td>5C11</td><td>FOURTH</td><td>405</td><td>21</td><td>NONE</td><td>NONE</td><td>NONE</td><td>NONE</td></tr><tr><th>5</th><td>162782</td><td>READY TO BATCH PRINT</td><td>One Family Rental</td><td>500512001166</td><td>THE DUMAN KIM 2008 IRREVOCABLE TRUST</td><td>3/1/2014 12:00:00 AM</td><td>2/28/2016 12:00:00 AM</td><td>7/15/2014 12:00:00 AM</td><td>2024664747</td><td>7/17/2014 6:45:37 AM</td><td>WASHINGTON</td><td>DC</td><td>1111 23RD STREET NW</td><td>38.9043944286858</td><td>-77.0498085529093</td><td>20037</td><td>243030</td><td>86288</td><td>86288</td><td>2</td><td>2A</td><td>2A02</td><td>SECOND</td><td>207</td><td>5</td><td>NONE</td><td>NONE</td><td>NONE</td><td>NONE</td></tr><tr><th>6</th><td>164337</td><td>READY TO BATCH PRINT</td><td>One Family Rental</td><td>66003019</td><td>LAWRENCE PLUTKIN &amp; RUTH HANSEN</td><td>5/1/2014 12:00:00 AM</td><td>4/30/2016 12:00:00 AM</td><td>7/15/2014 12:00:00 AM</td><td>2025443900</td><td>7/17/2014 6:45:37 AM</td><td>WASHINGTON</td><td>DC</td><td>509 E STREET NE</td><td>38.8959442120393</td><td>-76.9990448282485</td><td>20002</td><td>13593</td><td>7232</td><td>7232</td><td>6</td><td>6C</td><td>6C06</td><td>FIRST</td><td>104</td><td>25</td><td>NONE</td><td>NONE</td><td>NONE</td><td>NONE</td></tr><tr><th>7</th><td>168986</td><td>ACTIVE</td><td>Hotel</td><td>50005945</td><td>CCMH METRO CENTER LLC</td><td>5/1/2014 12:00:00 AM</td><td>4/30/2016 12:00:00 AM</td><td>7/15/2014 12:00:00 AM</td><td>2027372200</td><td>7/17/2014 6:45:37 AM</td><td>WASHINGTON</td><td>DC</td><td>775 12TH STREET NW</td><td>38.8993608462445</td><td>-77.0277856935399</td><td>20005</td><td>239130</td><td>82098</td><td>82098</td><td>2</td><td>2C</td><td>2C03</td><td>FIRST</td><td>101</td><td>8</td><td>NONE</td><td>NONE</td><td>NONE</td><td>DOWNTOWN BID</td></tr><tr><th>8</th><td>174936</td><td>ACTIVE</td><td>Restaurant</td><td>931312000209</td><td>PIETRO POLLES</td><td>5/1/2014 12:00:00 AM</td><td>4/30/2016 12:00:00 AM</td><td>7/15/2014 12:00:00 AM</td><td>2026257700</td><td>7/17/2014 6:45:37 AM</td><td>WASHINGTON</td><td>DC</td><td>2311 CALVERT STREET NW</td><td>38.9237810228288</td><td>-77.0510086254143</td><td>20008</td><td>236661</td><td>79345</td><td>79345</td><td>3</td><td>3C</td><td>3C01</td><td>SECOND</td><td>204</td><td>15</td><td>NONE</td><td>NONE</td><td>NONE</td><td>NONE</td></tr><tr><th>9</th><td>239676</td><td>READY TO BATCH PRINT</td><td>Charitable Solicitation</td><td>66005637</td><td>ALLEY CAT ALLIES INC</td><td>9/1/2014 12:00:00 AM</td><td>8/31/2016 12:00:00 AM</td><td>7/15/2014 12:00:00 AM</td><td>2025723161</td><td>7/17/2014 6:45:37 AM</td><td>NA</td><td>NA</td><td>NA</td><td>0.0</td><td>0.0</td><td>NA</td><td>-100</td><td>-100</td><td>348291</td><td>NA</td><td>NONE</td><td>NONE</td><td>NA</td><td>NA</td><td>NONE</td><td>NONE</td><td>NONE</td><td>NONE</td><td>NONE</td></tr><tr><th>10</th><td>239799</td><td>READY TO BATCH PRINT</td><td>Charitable Solicitation</td><td>70106660</td><td>CENTER FOR STATE &amp; LOCAL GOVERNMENT EXCELLENCE INC</td><td>8/1/2014 12:00:00 AM</td><td>7/31/2016 12:00:00 AM</td><td>7/15/2014 12:00:00 AM</td><td>2029999999</td><td>7/17/2014 6:45:37 AM</td><td>WASHINGTON</td><td>DC</td><td>777 NORTH CAPITOL STREET NE</td><td>38.8998444371017</td><td>-77.0085029459427</td><td>20002</td><td>79340</td><td>51326</td><td>51326</td><td>6</td><td>6C</td><td>6C05</td><td>FIRST</td><td>103</td><td>25</td><td>NONE</td><td>NONE</td><td>NONE</td><td>NOMA BID</td></tr><tr><th>11</th><td>239811</td><td>READY TO BATCH PRINT</td><td>Charitable Solicitation</td><td>70107061</td><td>ROBERT R MCCORMICK FOUNDATION</td><td>8/1/2014 12:00:00 AM</td><td>7/31/2016 12:00:00 AM</td><td>7/15/2014 12:00:00 AM</td><td>8004350808</td><td>7/17/2014 6:45:37 AM</td><td>NA</td><td>NA</td><td>NA</td><td>0.0</td><td>0.0</td><td>NA</td><td>-100</td><td>-100</td><td>348291</td><td>NA</td><td>NONE</td><td>NONE</td><td>NA</td><td>NA</td><td>NONE</td><td>NONE</td><td>NONE</td><td>NONE</td><td>NONE</td></tr><tr><th>12</th><td>239884</td><td>READY TO BATCH PRINT</td><td>General Business Licenses</td><td>70106710</td><td>POLICYFUTURES LLC</td><td>8/1/2014 12:00:00 AM</td><td>7/31/2016 12:00:00 AM</td><td>7/15/2014 12:00:00 AM</td><td>2024951827</td><td>7/17/2014 6:45:37 AM</td><td>WASHINGTON</td><td>DC</td><td>2311 CONNECTICUT AVENUE NW</td><td>38.9191174013329</td><td>-77.0484974658942</td><td>20008</td><td>226277</td><td>69274</td><td>69274</td><td>1</td><td>1C</td><td>1C02</td><td>THIRD</td><td>303</td><td>1</td><td>NONE</td><td>NONE</td><td>NONE</td><td>NONE</td></tr><tr><th>13</th><td>240200</td><td>READY TO BATCH PRINT</td><td>Cigarette Retail</td><td>39808691</td><td>2325 BLADENSBURG ROAD CORPORATION</td><td>8/1/2014 12:00:00 AM</td><td>7/31/2016 12:00:00 AM</td><td>7/15/2014 12:00:00 AM</td><td>9999999999</td><td>7/17/2014 6:45:37 AM</td><td>WASHINGTON</td><td>DC</td><td>2325 BLADENSBURG ROAD NE</td><td>38.9210672419729</td><td>-76.9689328352835</td><td>20018</td><td>48573</td><td>32215</td><td>32215</td><td>5</td><td>5B</td><td>5B09</td><td>FIFTH</td><td>503</td><td>24</td><td>NONE</td><td>NONE</td><td>NONE</td><td>NONE</td></tr><tr><th>14</th><td>240350</td><td>READY TO BATCH PRINT</td><td>General Business Licenses</td><td>70107700</td><td>CELTEK INC</td><td>9/1/2014 12:00:00 AM</td><td>8/31/2016 12:00:00 AM</td><td>7/15/2014 12:00:00 AM</td><td>8004438177</td><td>7/17/2014 6:45:37 AM</td><td>NA</td><td>NA</td><td>NA</td><td>0.0</td><td>0.0</td><td>NA</td><td>-100</td><td>-100</td><td>348291</td><td>NA</td><td>NONE</td><td>NONE</td><td>NA</td><td>NA</td><td>NONE</td><td>NONE</td><td>NONE</td><td>NONE</td><td>NONE</td></tr><tr><th>15</th><td>240380</td><td>READY TO BATCH PRINT</td><td>General Business Licenses</td><td>70107866</td><td>KIPLINGER WASHINGTON EDITORS, INC. (THE)</td><td>9/1/2014 12:00:00 AM</td><td>8/31/2016 12:00:00 AM</td><td>7/15/2014 12:00:00 AM</td><td>2025723100</td><td>7/17/2014 6:45:37 AM</td><td>WASHINGTON</td><td>DC</td><td>1100 13TH STREET NW</td><td>38.9041567049524</td><td>-77.0300107880603</td><td>20005</td><td>300400</td><td>217316</td><td>217316</td><td>2</td><td>2F</td><td>2F03</td><td>THIRD</td><td>307</td><td>8</td><td>NONE</td><td>NONE</td><td>NONE</td><td>DOWNTOWN BID</td></tr><tr><th>16</th><td>240516</td><td>READY TO BATCH PRINT</td><td>Cigarette Retail</td><td>39503062</td><td>RUFAEL INCORPORATED</td><td>8/1/2014 12:00:00 AM</td><td>7/31/2016 12:00:00 AM</td><td>7/15/2014 12:00:00 AM</td><td>9999999999</td><td>7/17/2014 6:45:37 AM</td><td>WASHINGTON</td><td>DC</td><td>5900 GEORGIA AVENUE NW</td><td>38.961518017282</td><td>-77.0284286008021</td><td>20011</td><td>253189</td><td>95828</td><td>95828</td><td>4</td><td>4A</td><td>4A06</td><td>FOURTH</td><td>402</td><td>17</td><td>NONE</td><td>NONE</td><td>NONE</td><td>NONE</td></tr><tr><th>17</th><td>240701</td><td>ACTIVE</td><td>Cigarette Retail</td><td>53001597</td><td>MAHIL CORPORATION</td><td>8/1/2014 12:00:00 AM</td><td>7/31/2016 12:00:00 AM</td><td>7/15/2014 12:00:00 AM</td><td>9999999999</td><td>7/17/2014 6:45:37 AM</td><td>WASHINGTON</td><td>DC</td><td>1420 K STREET NW</td><td>38.9021421345264</td><td>-77.032811145076</td><td>20005</td><td>240271</td><td>83568</td><td>83568</td><td>2</td><td>2F</td><td>2F03</td><td>SECOND</td><td>207</td><td>8</td><td>NONE</td><td>NONE</td><td>NONE</td><td>DOWNTOWN BID</td></tr><tr><th>18</th><td>240727</td><td>READY TO BATCH PRINT</td><td>Cigarette Retail</td><td>53005295</td><td>MAC'S  LIQUORS INC</td><td>8/1/2014 12:00:00 AM</td><td>7/31/2016 12:00:00 AM</td><td>7/15/2014 12:00:00 AM</td><td>2024620600</td><td>7/17/2014 6:45:37 AM</td><td>WASHINGTON</td><td>DC</td><td>401 RHODE ISLAND AVENUE NE</td><td>38.9195918437111</td><td>-77.0003692341439</td><td>20002</td><td>28170</td><td>16837</td><td>16837</td><td>5</td><td>5C</td><td>5C05</td><td>FIFTH</td><td>502</td><td>21</td><td>NONE</td><td>NONE</td><td>NONE</td><td>NONE</td></tr><tr><th>19</th><td>240752</td><td>READY TO BATCH PRINT</td><td>Cigarette Retail</td><td>54000740</td><td>YENE, INCORPORATED</td><td>8/1/2014 12:00:00 AM</td><td>7/31/2016 12:00:00 AM</td><td>7/15/2014 12:00:00 AM</td><td>9999999999</td><td>7/17/2014 6:45:37 AM</td><td>WASHINGTON</td><td>DC</td><td>5916 GEORGIA AVENUE NW</td><td>38.9617391237231</td><td>-77.0282475395764</td><td>20011</td><td>253190</td><td>95829</td><td>95829</td><td>4</td><td>4A</td><td>4A06</td><td>FOURTH</td><td>402</td><td>17</td><td>NONE</td><td>NONE</td><td>NONE</td><td>NONE</td></tr><tr><th>20</th><td>240757</td><td>READY TO BATCH PRINT</td><td>Cigarette Retail</td><td>54002447</td><td>CAIRO WINE &amp; LIQUOR</td><td>8/1/2014 12:00:00 AM</td><td>7/31/2016 12:00:00 AM</td><td>7/15/2014 12:00:00 AM</td><td>9999999999</td><td>7/17/2014 6:45:37 AM</td><td>WASHINGTON</td><td>DC</td><td>1618 17TH STREET NW</td><td>38.9117760601279</td><td>-77.0388551572253</td><td>20009</td><td>241657</td><td>84327</td><td>84327</td><td>2</td><td>2B</td><td>2B03</td><td>THIRD</td><td>301</td><td>6</td><td>NONE</td><td>NONE</td><td>NONE</td><td>NONE</td></tr><tr><th>21</th><td>240860</td><td>READY TO BATCH PRINT</td><td>Cigarette Retail</td><td>69006528</td><td>SUBURBAN LIQUORS INC</td><td>8/1/2014 12:00:00 AM</td><td>7/31/2016 12:00:00 AM</td><td>7/15/2014 12:00:00 AM</td><td>2023992500</td><td>7/17/2014 6:45:37 AM</td><td>WASHINGTON</td><td>DC</td><td>4347 HUNT PLACE NE</td><td>38.9003144838254</td><td>-76.9393889863938</td><td>20019</td><td>22805</td><td>12859</td><td>12859</td><td>7</td><td>7D</td><td>7D06</td><td>SIXTH</td><td>602</td><td>30</td><td>NONE</td><td>NONE</td><td>NONE</td><td>NONE</td></tr><tr><th>22</th><td>240898</td><td>ACTIVE</td><td>Cigarette Retail</td><td>70107934</td><td>SK CORPORATION</td><td>9/1/2014 12:00:00 AM</td><td>8/31/2016 12:00:00 AM</td><td>7/15/2014 12:00:00 AM</td><td>NA</td><td>7/17/2014 6:45:37 AM</td><td>WASHINGTON</td><td>DC</td><td>1700 17TH STREET NW</td><td>38.9128688617488</td><td>-77.0388551760568</td><td>20009</td><td>226276</td><td>69273</td><td>69273</td><td>2</td><td>2B</td><td>2B03</td><td>THIRD</td><td>301</td><td>6</td><td>NONE</td><td>NONE</td><td>NONE</td><td>NONE</td></tr><tr><th>23</th><td>241381</td><td>ACTIVE</td><td>Parking Facility</td><td>40004580</td><td>JURASSIC PROPERTIES INC</td><td>8/1/2014 12:00:00 AM</td><td>7/31/2016 12:00:00 AM</td><td>7/15/2014 12:00:00 AM</td><td>NA</td><td>7/17/2014 6:45:37 AM</td><td>WASHINGTON</td><td>DC</td><td>2009 18TH STREET NW</td><td>38.9175271670313</td><td>-77.0412058923855</td><td>20009</td><td>243239</td><td>86171</td><td>86171</td><td>1</td><td>1C</td><td>1C07</td><td>THIRD</td><td>303</td><td>1</td><td>NONE</td><td>NONE</td><td>NONE</td><td>ADAMS MORGAN BID</td></tr><tr><th>24</th><td>242023</td><td>ACTIVE</td><td>Apartment</td><td>70106125</td><td>PAUL LAURENCE DUNBAR APARTMENTS LP</td><td>7/1/2014 12:00:00 AM</td><td>6/30/2016 12:00:00 AM</td><td>7/15/2014 12:00:00 AM</td><td>2024621092</td><td>7/17/2014 6:45:37 AM</td><td>WASHINGTON</td><td>DC</td><td>2001 15TH STREET NW</td><td>38.9174725030973</td><td>-77.0341718243881</td><td>20009</td><td>239975</td><td>83249</td><td>83249</td><td>1</td><td>1B</td><td>1B04</td><td>THIRD</td><td>301</td><td>3</td><td>NONE</td><td>NONE</td><td>NONE</td><td>NONE</td></tr><tr><th>25</th><td>242051</td><td>READY TO BATCH PRINT</td><td>One Family Rental</td><td>66005904</td><td>LENDIA BROCKINGTON</td><td>9/1/2014 12:00:00 AM</td><td>8/31/2016 12:00:00 AM</td><td>7/15/2014 12:00:00 AM</td><td>NA</td><td>7/17/2014 6:45:37 AM</td><td>WASHINGTON</td><td>DC</td><td>1408 OTIS STREET NE</td><td>38.9349653984428</td><td>-76.9859516598283</td><td>20017</td><td>64902</td><td>40022</td><td>40022</td><td>5</td><td>5A</td><td>5A08</td><td>FIFTH</td><td>504</td><td>22</td><td>NONE</td><td>NONE</td><td>NONE</td><td>NONE</td></tr><tr><th>26</th><td>242055</td><td>READY TO BATCH PRINT</td><td>One Family Rental</td><td>66005931</td><td>CHRISTOPHER SIMPSON</td><td>9/1/2014 12:00:00 AM</td><td>8/31/2016 12:00:00 AM</td><td>7/15/2014 12:00:00 AM</td><td>2025467000</td><td>7/17/2014 6:45:37 AM</td><td>WASHINGTON</td><td>DC</td><td>1315 INDEPENDENCE AVENUE SE</td><td>38.8874014691979</td><td>-76.9868666354106</td><td>20003</td><td>296219</td><td>132349</td><td>132349</td><td>6</td><td>6B</td><td>6B08</td><td>FIRST</td><td>108</td><td>26</td><td>NONE</td><td>NONE</td><td>NONE</td><td>NONE</td></tr><tr><th>27</th><td>242412</td><td>READY TO BATCH PRINT</td><td>One Family Rental</td><td>66005567</td><td>COLDWELL BANKER R B PROPERTY MANAGEMENT</td><td>9/1/2014 12:00:00 AM</td><td>8/31/2016 12:00:00 AM</td><td>7/15/2014 12:00:00 AM</td><td>2024715201</td><td>7/17/2014 6:45:37 AM</td><td>WASHINGTON</td><td>DC</td><td>1625 AVON PLACE NW</td><td>38.9115465468947</td><td>-77.0607827866945</td><td>20007</td><td>273045</td><td>115538</td><td>115538</td><td>2</td><td>2E</td><td>2E07</td><td>SECOND</td><td>206</td><td>4</td><td>NONE</td><td>NONE</td><td>NONE</td><td>NONE</td></tr><tr><th>28</th><td>242768</td><td>READY TO BATCH PRINT</td><td>One Family Rental</td><td>68005673</td><td>COLDWELL BANKER PROPERTY MANAGEMENT</td><td>9/1/2014 12:00:00 AM</td><td>8/31/2016 12:00:00 AM</td><td>7/15/2014 12:00:00 AM</td><td>2024715201</td><td>7/17/2014 6:45:37 AM</td><td>WASHINGTON</td><td>DC</td><td>4101 ALBEMARLE STREET NW</td><td>38.9481752637066</td><td>-77.0808229574421</td><td>20016</td><td>300094</td><td>297961</td><td>298098</td><td>3</td><td>3E</td><td>3E03</td><td>SECOND</td><td>202</td><td>11</td><td>NONE</td><td>NONE</td><td>NONE</td><td>NONE</td></tr><tr><th>29</th><td>242787</td><td>READY TO BATCH PRINT</td><td>One Family Rental</td><td>68005852</td><td>UNITED HOUSE OF PRAYER FOR ALL PEOPLE OF THE CHURC</td><td>9/1/2014 12:00:00 AM</td><td>8/31/2016 12:00:00 AM</td><td>7/15/2014 12:00:00 AM</td><td>2028823956</td><td>7/17/2014 6:45:37 AM</td><td>WASHINGTON</td><td>DC</td><td>1140 6TH STREET NW</td><td>38.9053282898736</td><td>-77.0201270767514</td><td>20001</td><td>238649</td><td>81934</td><td>81934</td><td>6</td><td>2C</td><td>2C03</td><td>THIRD</td><td>308</td><td>8</td><td>NONE</td><td>NONE</td><td>NONE</td><td>NONE</td></tr><tr><th>30</th><td>242802</td><td>READY TO BATCH PRINT</td><td>One Family Rental</td><td>68005939</td><td>COLDWELL BANKER PROPERTY MANAGEMENT</td><td>9/1/2014 12:00:00 AM</td><td>8/31/2016 12:00:00 AM</td><td>7/15/2014 12:00:00 AM</td><td>2024715201</td><td>7/17/2014 6:45:37 AM</td><td>WASHINGTON</td><td>DC</td><td>1342 VERMONT AVENUE NW</td><td>38.9088949936637</td><td>-77.0304073257072</td><td>20005</td><td>225408</td><td>68123</td><td>68123</td><td>2</td><td>2F</td><td>2F02</td><td>THIRD</td><td>307</td><td>7</td><td>NONE</td><td>NONE</td><td>NONE</td><td>NONE</td></tr><tr><th>&vellip;</th><td>&vellip;</td><td>&vellip;</td><td>&vellip;</td><td>&vellip;</td><td>&vellip;</td><td>&vellip;</td><td>&vellip;</td><td>&vellip;</td><td>&vellip;</td><td>&vellip;</td><td>&vellip;</td><td>&vellip;</td><td>&vellip;</td><td>&vellip;</td><td>&vellip;</td><td>&vellip;</td><td>&vellip;</td><td>&vellip;</td><td>&vellip;</td><td>&vellip;</td><td>&vellip;</td><td>&vellip;</td><td>&vellip;</td><td>&vellip;</td><td>&vellip;</td><td>&vellip;</td><td>&vellip;</td><td>&vellip;</td><td>&vellip;</td></tr></table>"
       ],
       "metadata": {},
       "output_type": "pyout",
       "prompt_number": 27,
       "text": [
        "114x29 DataFrame\n",
        "|-------|-----------------------------|------------|---------|\n",
        "| Col # | Name                        | Eltype     | Missing |\n",
        "| 1     | BBL_LICENSE_FACT_ID         | Int64      | 0       |\n",
        "| 2     | LICENSESTATUS               | UTF8String | 0       |\n",
        "| 3     | LICENSECATEGORY             | UTF8String | 0       |\n",
        "| 4     | CUST_NUM                    | Int64      | 0       |\n",
        "| 5     | TRADE_NAME                  | UTF8String | 18      |\n",
        "| 6     | LICENSE_START_DATE          | UTF8String | 0       |\n",
        "| 7     | LICENSE_EXPIRATION_DATE     | UTF8String | 0       |\n",
        "| 8     | LICENSE_ISSUE_DATE          | UTF8String | 0       |\n",
        "| 9     | AGENT_PHONE                 | UTF8String | 11      |\n",
        "| 10    | LASTMODIFIEDDATE            | UTF8String | 0       |\n",
        "| 11    | CITY                        | UTF8String | 8       |\n",
        "| 12    | STATE                       | UTF8String | 8       |\n",
        "| 13    | SITEADDRESS                 | UTF8String | 8       |\n",
        "| 14    | LATITUDE                    | Float64    | 0       |\n",
        "| 15    | LONGITUDE                   | Float64    | 0       |\n",
        "| 16    | ZIPCODE                     | Int64      | 8       |\n",
        "| 17    | MARADDRESSREPOSITORYID      | Int64      | 0       |\n",
        "| 18    | DCSTATADDRESSKEY            | Int64      | 0       |\n",
        "| 19    | DCSTATLOCATIONKEY           | Int64      | 0       |\n",
        "| 20    | WARD                        | Int64      | 8       |\n",
        "| 21    | ANC                         | UTF8String | 0       |\n",
        "| 22    | SMD                         | UTF8String | 0       |\n",
        "| 23    | DISTRICT                    | UTF8String | 8       |\n",
        "| 24    | PSA                         | Int64      | 8       |\n",
        "| 25    | NEIGHBORHOODCLUSTER         | UTF8String | 0       |\n",
        "| 26    | HOTSPOT2006NAME             | UTF8String | 0       |\n",
        "| 27    | HOTSPOT2005NAME             | UTF8String | 0       |\n",
        "| 28    | HOTSPOT2004NAME             | UTF8String | 0       |\n",
        "| 29    | BUSINESSIMPROVEMENTDISTRICT | UTF8String | 0       |"
       ]
      }
     ],
     "prompt_number": 27
    },
    {
     "cell_type": "code",
     "collapsed": false,
     "input": [
      "summary(bbl)"
     ],
     "language": "python",
     "metadata": {},
     "outputs": [
      {
       "metadata": {},
       "output_type": "pyout",
       "prompt_number": 28,
       "text": [
        "\"114x29 DataFrame\""
       ]
      }
     ],
     "prompt_number": 28
    },
    {
     "cell_type": "code",
     "collapsed": false,
     "input": [
      "names(bbl)"
     ],
     "language": "python",
     "metadata": {},
     "outputs": [
      {
       "metadata": {},
       "output_type": "pyout",
       "prompt_number": 30,
       "text": [
        "29-element Array{Symbol,1}:\n",
        " :BBL_LICENSE_FACT_ID        \n",
        " :LICENSESTATUS              \n",
        " :LICENSECATEGORY            \n",
        " :CUST_NUM                   \n",
        " :TRADE_NAME                 \n",
        " :LICENSE_START_DATE         \n",
        " :LICENSE_EXPIRATION_DATE    \n",
        " :LICENSE_ISSUE_DATE         \n",
        " :AGENT_PHONE                \n",
        " :LASTMODIFIEDDATE           \n",
        " :CITY                       \n",
        " :STATE                      \n",
        " :SITEADDRESS                \n",
        " \u22ee                           \n",
        " :DCSTATADDRESSKEY           \n",
        " :DCSTATLOCATIONKEY          \n",
        " :WARD                       \n",
        " :ANC                        \n",
        " :SMD                        \n",
        " :DISTRICT                   \n",
        " :PSA                        \n",
        " :NEIGHBORHOODCLUSTER        \n",
        " :HOTSPOT2006NAME            \n",
        " :HOTSPOT2005NAME            \n",
        " :HOTSPOT2004NAME            \n",
        " :BUSINESSIMPROVEMENTDISTRICT"
       ]
      }
     ],
     "prompt_number": 30
    },
    {
     "cell_type": "markdown",
     "metadata": {},
     "source": [
      "## Querying and subsetting that test data\n",
      "\n",
      "..."
     ]
    },
    {
     "cell_type": "code",
     "collapsed": false,
     "input": [],
     "language": "python",
     "metadata": {},
     "outputs": []
    },
    {
     "cell_type": "code",
     "collapsed": false,
     "input": [],
     "language": "python",
     "metadata": {},
     "outputs": []
    }
   ],
   "metadata": {}
  }
 ]
}