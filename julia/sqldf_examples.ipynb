{
 "metadata": {
  "language": "Julia",
  "name": "",
  "signature": "sha256:31dbdb537a4e2806eb0610f4b3db8ef81c46f3286a79e21b2f0a3e5df9e21e4e"
 },
 "nbformat": 3,
 "nbformat_minor": 0,
 "worksheets": [
  {
   "cells": [
    {
     "cell_type": "markdown",
     "metadata": {},
     "source": [
      "# SQL, the Sequel : Data Wranglers DC : August 2014 Meetup\n",
      "\n",
      "**Author:**  [Ryan B. Harvey](http://datascientist.guru)\n",
      "\n",
      "**Created:** 2014-07-18 / **Last Updated:** 2014-07-18\n",
      "\n",
      "**Contents:**\n",
      "\n",
      "- The `sqldf` function in Julia (using the `SQLite.jl` package) \n",
      "- Loading some test data\n",
      "- Querying and subsetting that test data\n",
      "- Example of a complex query\n",
      "\n",
      "**Package Dependencies:**\n",
      "\n",
      "- **[SQLite.jl](https://github.com/quinnj/SQLite.jl):** Interface to SQLite databases from Julia; also allows SQL operations on data frames via the `sqldf` function, based on the package of the same name in R\n",
      "\n",
      "**References:**\n",
      "\n",
      "- This IJulia notebook was created for a talk to the Data Wranglers DC meetup group on August 6, 2014.\n",
      "  - Talk information: [http://www.meetup.com/Data-Wranglers-DC/events/177269432/](http://www.meetup.com/Data-Wranglers-DC/events/177269432/)\n",
      "  - This is only a portion of the talk, which included database information, SQL code, and an R markdown file too.\n",
      "  - My code, slides and the sample data are all available on Github. [https://github.com/nihonjinrxs/dwdc-august2014](https://github.com/nihonjinrxs/dwdc-august2014)"
     ]
    },
    {
     "cell_type": "markdown",
     "metadata": {},
     "source": [
      "## The `sqldf` function in Julia (using the `SQLite.jl` package)\n",
      "\n",
      "The `SQLite.jl` package is a Julia package that provides an interface to the SQLite library and support for operations on DataFrames through the `sqldf` function.  The `sqldf` function creates tables in a local SQLite database, runs the requested SQL query on those tables, and then drops the tables from the SQLite database.  Although this can be slower than subsetting a data frame directly, in cases where the data frame is very complex and conditions get difficult to parse, SQL can provide a straightforward, declarative way of requesting a particular data subset.\n",
      "\n",
      "If the `SQLite.jl` package doesn't exist in your environment, add the package.  Once you have it, use it.\n"
     ]
    },
    {
     "cell_type": "code",
     "collapsed": false,
     "input": [
      "Pkg.update()"
     ],
     "language": "python",
     "metadata": {},
     "outputs": []
    },
    {
     "cell_type": "code",
     "collapsed": false,
     "input": [
      "Pkg.add(\"SQLite\")"
     ],
     "language": "python",
     "metadata": {},
     "outputs": []
    },
    {
     "cell_type": "code",
     "collapsed": false,
     "input": [
      "Pkg.add(\"DataFrames\")"
     ],
     "language": "python",
     "metadata": {},
     "outputs": []
    },
    {
     "cell_type": "code",
     "collapsed": false,
     "input": [
      "using SQLite\n",
      "using DataFrames"
     ],
     "language": "python",
     "metadata": {},
     "outputs": []
    },
    {
     "cell_type": "markdown",
     "metadata": {},
     "source": [
      "## Load some data to work with\n",
      "\n",
      "For this example, we'll use the [Basic Business Licenses data](http://data.dc.gov/Main_DataCatalog.aspx?id=1520) from the [DC government open data site](http://data.dc.gov/).\n",
      "\n",
      "The data is available as a zip file, so we'll download it if it's not already available, and then unzip it if it hasn't been already."
     ]
    },
    {
     "cell_type": "code",
     "collapsed": false,
     "input": [
      "url = \"http://data.octo.dc.gov/feeds/bbl/bbl_current_csv.zip\"\n",
      "\n",
      "data_dir = \"../data/\"            \n",
      "current_dir = pwd()\n",
      "cd(data_dir)\n",
      "\n",
      "local_zipped = \"bbl_current_csv.zip\"\n",
      "local_data = \"bbl_current_csv.csv\"\n",
      "\n",
      "if !(isfile(local_zipped) && isfile(local_data))\n",
      "  download(url, local_zipped)\n",
      "  fileDownloadedDate = strftime(\"%F\", time())\n",
      "  fileDownloadedDate\n",
      "end"
     ],
     "language": "python",
     "metadata": {},
     "outputs": []
    },
    {
     "cell_type": "code",
     "collapsed": false,
     "input": [
      "if !isfile(local_data)\n",
      "  run(`unzip $local_zipped`)\n",
      "end"
     ],
     "language": "python",
     "metadata": {},
     "outputs": []
    },
    {
     "cell_type": "code",
     "collapsed": false,
     "input": [
      "bbl = readtable(local_data)"
     ],
     "language": "python",
     "metadata": {},
     "outputs": []
    },
    {
     "cell_type": "code",
     "collapsed": false,
     "input": [
      "summary(bbl)"
     ],
     "language": "python",
     "metadata": {},
     "outputs": []
    },
    {
     "cell_type": "code",
     "collapsed": false,
     "input": [
      "names(bbl)"
     ],
     "language": "python",
     "metadata": {},
     "outputs": []
    },
    {
     "cell_type": "markdown",
     "metadata": {},
     "source": [
      "## Querying and subsetting that test data\n",
      "\n",
      "Now, let's do a few queries on it just to get the hang of using `sqldf`."
     ]
    },
    {
     "cell_type": "code",
     "collapsed": false,
     "input": [
      "sqldf(\"select * from bbl where BUSINESSIMPROVEMENTDISTRICT = 'DOWNTOWN BID'\")"
     ],
     "language": "python",
     "metadata": {},
     "outputs": []
    },
    {
     "cell_type": "code",
     "collapsed": false,
     "input": [
      "sqldf(\"select * from bbl where WARD = 6\")"
     ],
     "language": "python",
     "metadata": {},
     "outputs": []
    },
    {
     "cell_type": "markdown",
     "metadata": {},
     "source": [
      "The `sqldf()` function returns a data frame, so we can store it in another variable for use in a plot, for example."
     ]
    },
    {
     "cell_type": "code",
     "collapsed": false,
     "input": [
      "ward6 = sqldf(\"select LICENSECATEGORY, count(*) as LICENSECOUNT from bbl where WARD = 6 group by LICENSECATEGORY\")\n",
      "ward6"
     ],
     "language": "python",
     "metadata": {},
     "outputs": []
    },
    {
     "cell_type": "code",
     "collapsed": false,
     "input": [
      "Pkg.add(\"PyPlot\")\n",
      "using PyPlot"
     ],
     "language": "python",
     "metadata": {},
     "outputs": []
    },
    {
     "cell_type": "code",
     "collapsed": false,
     "input": [
      "barh(ward6[\"LICENSECOUNT\"], ward6[\"LICENSECATEGORY\"])"
     ],
     "language": "python",
     "metadata": {},
     "outputs": []
    },
    {
     "cell_type": "code",
     "collapsed": false,
     "input": [],
     "language": "python",
     "metadata": {},
     "outputs": []
    }
   ],
   "metadata": {}
  }
 ]
}